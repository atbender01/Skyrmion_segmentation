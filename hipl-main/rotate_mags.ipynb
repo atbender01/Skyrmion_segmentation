{
 "cells": [
  {
   "cell_type": "code",
   "execution_count": 1,
   "metadata": {},
   "outputs": [],
   "source": [
    "%load_ext autoreload\n",
    "%autoreload 2\n",
    "from image_helpers import * \n",
    "%matplotlib widget"
   ]
  },
  {
   "cell_type": "markdown",
   "metadata": {},
   "source": [
    "# Look at pytorch3D\n",
    "https://pytorch3d.readthedocs.io/en/latest/modules/transforms.html#pytorch3d.transforms.RotateAxisAngle\n",
    "\n",
    "also cupy:  \n",
    "https://docs.cupy.dev/en/stable/reference/generated/cupyx.scipy.ndimage.rotate.html"
   ]
  },
  {
   "cell_type": "code",
   "execution_count": 2,
   "metadata": {},
   "outputs": [],
   "source": [
    "from rotate_mags import rotate_arr"
   ]
  },
  {
   "cell_type": "code",
   "execution_count": 3,
   "metadata": {},
   "outputs": [],
   "source": [
    "dim = 64\n",
    "\n",
    "mag_x = np.ones((dim,dim,dim))\n",
    "mag_y = np.zeros((dim,dim,dim))\n",
    "mag_z = np.zeros((dim,dim,dim))\n",
    "\n",
    "db = 16\n",
    "db2 = db//2\n",
    "i = j = k = dim//2\n",
    "mag_x[:,j-db2:j+db2,i-db2:i+db2] = 0\n",
    "mag_y[:,j-db2:j+db2,i-db2:i+db2] = 0\n",
    "mag_z[:,j-db2:j+db2,i-db2:i+db2] = 1"
   ]
  },
  {
   "cell_type": "code",
   "execution_count": 4,
   "metadata": {},
   "outputs": [
    {
     "name": "stdout",
     "output_type": "stream",
     "text": [
      "Input image is 3D and does not seem to be a color image.\n",
      "Summing along first axis\n"
     ]
    },
    {
     "data": {
      "application/vnd.jupyter.widget-view+json": {
       "model_id": "2c45205d96f24f02ad70f6414e656997",
       "version_major": 2,
       "version_minor": 0
      },
      "text/plain": [
       "Canvas(toolbar=Toolbar(toolitems=[('Home', 'Reset original view', 'home', 'home'), ('Back', 'Back to previous …"
      ]
     },
     "metadata": {},
     "output_type": "display_data"
    },
    {
     "name": "stdout",
     "output_type": "stream",
     "text": [
      "Input image is 3D and does not seem to be a color image.\n",
      "Summing along first axis\n"
     ]
    },
    {
     "data": {
      "application/vnd.jupyter.widget-view+json": {
       "model_id": "4d0fc22afdc04af1ac974e5d69e9ac9c",
       "version_major": 2,
       "version_minor": 0
      },
      "text/plain": [
       "Canvas(toolbar=Toolbar(toolitems=[('Home', 'Reset original view', 'home', 'home'), ('Back', 'Back to previous …"
      ]
     },
     "metadata": {},
     "output_type": "display_data"
    },
    {
     "name": "stdout",
     "output_type": "stream",
     "text": [
      "Input image is 3D and does not seem to be a color image.\n",
      "Summing along first axis\n"
     ]
    },
    {
     "data": {
      "application/vnd.jupyter.widget-view+json": {
       "model_id": "6403db47ea1d44b281add087999d4679",
       "version_major": 2,
       "version_minor": 0
      },
      "text/plain": [
       "Canvas(toolbar=Toolbar(toolitems=[('Home', 'Reset original view', 'home', 'home'), ('Back', 'Back to previous …"
      ]
     },
     "metadata": {},
     "output_type": "display_data"
    },
    {
     "name": "stdout",
     "output_type": "stream",
     "text": [
      "Summing along first axis\n"
     ]
    },
    {
     "data": {
      "application/vnd.jupyter.widget-view+json": {
       "model_id": "99412e9b95b045d18857baf05b87fb00",
       "version_major": 2,
       "version_minor": 0
      },
      "text/plain": [
       "Canvas(toolbar=Toolbar(toolitems=[('Home', 'Reset original view', 'home', 'home'), ('Back', 'Back to previous …"
      ]
     },
     "metadata": {},
     "output_type": "display_data"
    }
   ],
   "source": [
    "show_im(mag_x, 'magx')\n",
    "show_im(mag_y, 'magy')\n",
    "show_im(mag_z, 'magz')\n",
    "show_2D(mag_x, mag_y, mag_z, color=True)\n"
   ]
  },
  {
   "cell_type": "code",
   "execution_count": 5,
   "metadata": {},
   "outputs": [
    {
     "name": "stdout",
     "output_type": "stream",
     "text": [
      "-0/64--1/64--2/64--3/64--4/64--5/64--6/64--7/64--8/64--9/64--10/64--11/64--12/64--13/64--14/64--15/64--16/64--17/64--18/64--19/64--20/64--21/64--22/64--23/64--24/64--25/64--26/64--27/64--28/64--29/64--30/64--31/64--32/64--33/64--34/64--35/64--36/64--37/64--38/64--39/64--40/64--41/64--42/64--43/64--44/64--45/64--46/64--47/64--48/64--49/64--50/64--51/64--52/64--53/64--54/64--55/64--56/64--57/64--58/64--59/64--60/64--61/64--62/64--63/64-Summing along first axis\n"
     ]
    },
    {
     "data": {
      "application/vnd.jupyter.widget-view+json": {
       "model_id": "58c0c21f381145219a04d492b7d43048",
       "version_major": 2,
       "version_minor": 0
      },
      "text/plain": [
       "Canvas(toolbar=Toolbar(toolitems=[('Home', 'Reset original view', 'home', 'home'), ('Back', 'Back to previous …"
      ]
     },
     "metadata": {},
     "output_type": "display_data"
    },
    {
     "name": "stdout",
     "output_type": "stream",
     "text": [
      "Input image is 3D and does not seem to be a color image.\n",
      "Summing along first axis\n"
     ]
    },
    {
     "data": {
      "application/vnd.jupyter.widget-view+json": {
       "model_id": "9af031cf00964c6796e2992c6f256d95",
       "version_major": 2,
       "version_minor": 0
      },
      "text/plain": [
       "Canvas(toolbar=Toolbar(toolitems=[('Home', 'Reset original view', 'home', 'home'), ('Back', 'Back to previous …"
      ]
     },
     "metadata": {},
     "output_type": "display_data"
    },
    {
     "name": "stdout",
     "output_type": "stream",
     "text": [
      "Input image is 3D and does not seem to be a color image.\n",
      "Summing along first axis\n"
     ]
    },
    {
     "data": {
      "application/vnd.jupyter.widget-view+json": {
       "model_id": "1736683b96b84ad28281df7bc39305ec",
       "version_major": 2,
       "version_minor": 0
      },
      "text/plain": [
       "Canvas(toolbar=Toolbar(toolitems=[('Home', 'Reset original view', 'home', 'home'), ('Back', 'Back to previous …"
      ]
     },
     "metadata": {},
     "output_type": "display_data"
    },
    {
     "name": "stdout",
     "output_type": "stream",
     "text": [
      "Input image is 3D and does not seem to be a color image.\n",
      "Summing along first axis\n"
     ]
    },
    {
     "data": {
      "application/vnd.jupyter.widget-view+json": {
       "model_id": "d440c214339f43c0a37216f26a8b7402",
       "version_major": 2,
       "version_minor": 0
      },
      "text/plain": [
       "Canvas(toolbar=Toolbar(toolitems=[('Home', 'Reset original view', 'home', 'home'), ('Back', 'Back to previous …"
      ]
     },
     "metadata": {},
     "output_type": "display_data"
    }
   ],
   "source": [
    "rmag_x, rmag_y, rmag_z = rotate_arr(mag_x, mag_y, mag_z, theta_y=90)\n",
    "\n",
    "show_2D(rmag_x, rmag_y, color=True)\n",
    "show_im(rmag_x, 'rmagx')\n",
    "show_im(rmag_y, 'rmagy')\n",
    "show_im(rmag_z, 'rmagz')\n"
   ]
  },
  {
   "cell_type": "code",
   "execution_count": 6,
   "metadata": {},
   "outputs": [
    {
     "name": "stdout",
     "output_type": "stream",
     "text": [
      "-0/64--1/64--2/64--3/64--4/64--5/64--6/64--7/64--8/64--9/64--10/64--11/64--12/64--13/64--14/64--15/64--16/64--17/64--18/64--19/64--20/64--21/64--22/64--23/64--24/64--25/64--26/64--27/64--28/64--29/64--30/64--31/64--32/64--33/64--34/64--35/64--36/64--37/64--38/64--39/64--40/64--41/64--42/64--43/64--44/64--45/64--46/64--47/64--48/64--49/64--50/64--51/64--52/64--53/64--54/64--55/64--56/64--57/64--58/64--59/64--60/64--61/64--62/64--63/64-Summing along first axis\n"
     ]
    },
    {
     "data": {
      "application/vnd.jupyter.widget-view+json": {
       "model_id": "2289fd8646bc466ea9c5f0042010a8ce",
       "version_major": 2,
       "version_minor": 0
      },
      "text/plain": [
       "Canvas(toolbar=Toolbar(toolitems=[('Home', 'Reset original view', 'home', 'home'), ('Back', 'Back to previous …"
      ]
     },
     "metadata": {},
     "output_type": "display_data"
    },
    {
     "name": "stdout",
     "output_type": "stream",
     "text": [
      "Input image is 3D and does not seem to be a color image.\n",
      "Summing along first axis\n"
     ]
    },
    {
     "data": {
      "application/vnd.jupyter.widget-view+json": {
       "model_id": "1634436e738f4f89af88f655f45e998d",
       "version_major": 2,
       "version_minor": 0
      },
      "text/plain": [
       "Canvas(toolbar=Toolbar(toolitems=[('Home', 'Reset original view', 'home', 'home'), ('Back', 'Back to previous …"
      ]
     },
     "metadata": {},
     "output_type": "display_data"
    },
    {
     "name": "stdout",
     "output_type": "stream",
     "text": [
      "Input image is 3D and does not seem to be a color image.\n",
      "Summing along first axis\n"
     ]
    },
    {
     "data": {
      "application/vnd.jupyter.widget-view+json": {
       "model_id": "813974ff20c84ff7b04e92459b083152",
       "version_major": 2,
       "version_minor": 0
      },
      "text/plain": [
       "Canvas(toolbar=Toolbar(toolitems=[('Home', 'Reset original view', 'home', 'home'), ('Back', 'Back to previous …"
      ]
     },
     "metadata": {},
     "output_type": "display_data"
    },
    {
     "name": "stdout",
     "output_type": "stream",
     "text": [
      "Input image is 3D and does not seem to be a color image.\n",
      "Summing along first axis\n"
     ]
    },
    {
     "data": {
      "application/vnd.jupyter.widget-view+json": {
       "model_id": "2586778da6d04695915fb88363e1fbc1",
       "version_major": 2,
       "version_minor": 0
      },
      "text/plain": [
       "Canvas(toolbar=Toolbar(toolitems=[('Home', 'Reset original view', 'home', 'home'), ('Back', 'Back to previous …"
      ]
     },
     "metadata": {},
     "output_type": "display_data"
    }
   ],
   "source": [
    "rmag_x, rmag_y, rmag_z = rotate_arr(mag_x, mag_y, mag_z, theta_y=90, theta_z=45)\n",
    "\n",
    "show_2D(rmag_x, rmag_y, color=True)\n",
    "show_im(rmag_x, 'rmagx')\n",
    "show_im(rmag_y, 'rmagy')\n",
    "show_im(rmag_z, 'rmagz')\n"
   ]
  },
  {
   "cell_type": "code",
   "execution_count": null,
   "metadata": {},
   "outputs": [],
   "source": []
  },
  {
   "cell_type": "code",
   "execution_count": null,
   "metadata": {},
   "outputs": [],
   "source": []
  }
 ],
 "metadata": {
  "interpreter": {
   "hash": "3f018919a2d593ddb5868c12ac1b9e8df3793eaa98a834653d79bc3068cb6532"
  },
  "kernelspec": {
   "display_name": "Python 3.7.1 ('PyLorentz')",
   "language": "python",
   "name": "python3"
  },
  "language_info": {
   "codemirror_mode": {
    "name": "ipython",
    "version": 3
   },
   "file_extension": ".py",
   "mimetype": "text/x-python",
   "name": "python",
   "nbconvert_exporter": "python",
   "pygments_lexer": "ipython3",
   "version": "3.7.1"
  },
  "orig_nbformat": 4
 },
 "nbformat": 4,
 "nbformat_minor": 2
}
