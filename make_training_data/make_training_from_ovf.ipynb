{
 "cells": [
  {
   "cell_type": "markdown",
   "metadata": {},
   "source": [
    "Takes a folder of .ovf files (of skyrmion) simulated from mumax and does two things: \n",
    "1. Create ground truth labels \n",
    "2. Creats simulated LTEM images\n",
    "\n",
    "The data structure should be as the following\n",
    "- training_set_XXX (main directory)\n",
    "    - image NAME and number 00XXX will be same across all .mx3, .ovf, truth image, and LTEM training image\n",
    "    - mx3s\n",
    "        - \"NAME_00XXX_simdetails.mx3\"\n",
    "    - magnetizations (containing the .ovf files output from mumax)\n",
    "        - \"NAME_00XXX_simdetails.ovf\"\n",
    "        - simdetails includes DMI value, B value, etc. \n",
    "    - training_images (LTEM images will be placed here)\n",
    "        - \"NAME_00XXX_LTEM_imdetails.tif\"\n",
    "        - imdetails will include defocus, Tx, Ty, etc. \n",
    "    - training_labels (ground truth labels will be placed here)\n",
    "        - \"NAME_00XXX_LABEL_labdetails.tif\"\n",
    "\n",
    "\n",
    "Notes: \n",
    "* images should all be saved as inidividuals, can be batched later. \n",
    "    - if saving them as stacks would cause problems as they'll get too big. "
   ]
  },
  {
   "cell_type": "code",
   "execution_count": 3,
   "metadata": {},
   "outputs": [
    {
     "name": "stdout",
     "output_type": "stream",
     "text": [
      "The autoreload extension is already loaded. To reload it, use:\n",
      "  %reload_ext autoreload\n"
     ]
    }
   ],
   "source": [
    "# PyLorentz2 environment \n",
    "%matplotlib widget\n",
    "%load_ext autoreload\n",
    "%autoreload 2\n",
    "\n",
    "from pathlib import Path \n",
    "import sys\n",
    "sys.path.append(\"/home/bendera/Lorentz_folder/AlecBender/mumax_training_files/SkyrmNet-main/hipl-main\")\n",
    "sys.path.append(\"/home/bendera/Lorentz_folder/AlecBender/PyLorentz/SimLTEM\")\n",
    "sys.path.append(\"/home/bendera/Lorentz_folder/AlecBender/PyLorentz/PyTIE\")\n",
    "\n",
    "from image_helpers import * \n",
    "from sim_helper import load_ovf\n",
    "import tifffile\n",
    "import matplotlib.pyplot as plt\n",
    "from skimage import data\n",
    "from skimage.filters import threshold_triangle"
   ]
  },
  {
   "cell_type": "code",
   "execution_count": 4,
   "metadata": {},
   "outputs": [
    {
     "name": "stdout",
     "output_type": "stream",
     "text": [
      "True True False\n"
     ]
    }
   ],
   "source": [
    "wd = Path(\"/home/bendera/Lorentz_folder/AlecBender/mumax_training_files/presentation_files\"\n",
    "          ).expanduser().resolve()\n",
    "magdir = wd / \"magnetizations\"\n",
    "labeldir = wd / \"label_images\"\n",
    "imdir = wd / \"training_images\"\n",
    "print(magdir.exists(), labeldir.exists(), imdir.exists())"
   ]
  },
  {
   "cell_type": "markdown",
   "metadata": {},
   "source": [
    "# Creating the ground truths \n",
    "should be pretty straightforward. Determine a cutoff of the magnetization (e.g. 0.95), threshold each Mz, save all images as .tif"
   ]
  },
  {
   "cell_type": "code",
   "execution_count": 3,
   "metadata": {},
   "outputs": [],
   "source": [
    "def truth_from_ovf(path, thresh, background=None, show=False):\n",
    "    erosion = True\n",
    "    thresholding = False\n",
    "    watershed = False\n",
    "    #assert (erosion == True) and (thresholding == True), \"Only use a single truth filter\"\n",
    "    #assert (erosion == False) and (thresholding == False), \"Use a truth filter\"\n",
    "    \n",
    "    mx, my, mz, del_px, _zscale = load_ovf(path, sim='norm', v=0)\n",
    "    mz = np.mean(mz, axis=0)\n",
    "    \n",
    "    if background is None: \n",
    "        # get background from net mz magnetization\n",
    "        if mz.sum() > 0:\n",
    "            background = 'pos'\n",
    "        elif mz.sum() < 0: \n",
    "            background = 'neg'\n",
    "            mz *= -1\n",
    "        else:\n",
    "            print(\"Background is zero... dafuq?\")\n",
    "            return \n",
    "        print(\"Background is: \", background)\n",
    "    #from skimage.filters import try_all_threshold\n",
    "\n",
    "    #fig, ax = try_all_threshold(mz, figsize=(10, 8), verbose=False)\n",
    "    #plt.show()\n",
    "    \n",
    "    if erosion:\n",
    "        truth = np.where(mz < thresh, 1, 0)\n",
    "        # for some reason int8 throws an error with tifffile\n",
    "        truth = ndi.binary_erosion(truth).astype('uint8')\n",
    "        if show: \n",
    "            show_im(mz, f'original', simple=True)\n",
    "            show_im(truth, f'truth, {thresh}', simple=True)\n",
    "            show_2D(np.mean(mx, axis=0), np.mean(my, axis=0), mz, color=True, a=0)\n",
    "        \n",
    "        if watershed:\n",
    "            watershed_segmentation(truth)\n",
    "        \n",
    "        print(truth, del_px)\n",
    "        return truth, del_px \n",
    "\n",
    "    elif thresholding:\n",
    "\n",
    "        thresh_triangle = threshold_triangle(mz)\n",
    "        truth = np.where(mz < thresh_triangle, 1, 0)\n",
    "        truth = (truth).astype('uint8')\n",
    "\n",
    "        '''\n",
    "        fig, axes = plt.subplots(ncols=3, figsize=(8, 2.5))\n",
    "        ax = axes.ravel()\n",
    "        ax[0] = plt.subplot(1, 3, 1)\n",
    "        ax[1] = plt.subplot(1, 3, 2)\n",
    "        ax[2] = plt.subplot(1, 3, 3, sharex=ax[0], sharey=ax[0])\n",
    "\n",
    "        ax[0].imshow(mz, cmap=plt.cm.gray)\n",
    "        ax[0].set_title('original')\n",
    "        ax[0].axis('off')\n",
    "\n",
    "        ax[1].hist(mz.ravel(), bins=256)\n",
    "        ax[1].set_title('Histogram')\n",
    "        ax[1].axvline(thresh, color='r')\n",
    "\n",
    "        ax[2].imshow(truth, cmap=plt.cm.gray)\n",
    "        ax[2].set_title('truth')\n",
    "        ax[2].axis('off')\n",
    "\n",
    "        plt.show()\n",
    "        '''\n",
    "\n",
    "        if watershed:\n",
    "            watershed_segmentation(truth)\n",
    "        \n",
    "        #print(truth, del_px)\n",
    "        return truth, del_px \n",
    "    "
   ]
  },
  {
   "cell_type": "markdown",
   "metadata": {},
   "source": [
    "\n",
    "Watershed and random walker for segmentation\n",
    "============================================\n",
    "\n",
    "This example compares two segmentation methods in order to separate two\n",
    "connected disks: the watershed algorithm, and the random walker algorithm.\n",
    "\n",
    "Both segmentation methods require seeds, that are pixels belonging\n",
    "unambigusouly to a reagion. Here, local maxima of the distance map to the\n",
    "background are used as seeds.\n"
   ]
  },
  {
   "cell_type": "code",
   "execution_count": 4,
   "metadata": {},
   "outputs": [],
   "source": [
    "def watershed_segmentation (image):\n",
    "    import numpy as np\n",
    "    from skimage.morphology import watershed\n",
    "    from skimage.feature import peak_local_max\n",
    "    from skimage import measure\n",
    "    from skimage.segmentation import random_walker\n",
    "    import matplotlib.pyplot as plt\n",
    "    from scipy import ndimage\n",
    "    \n",
    "    # Now we want to separate the two objects in image\n",
    "    # Generate the markers as local maxima of the distance\n",
    "    # to the background\n",
    "    distance = ndimage.distance_transform_edt(image)\n",
    "    local_maxi = peak_local_max(\n",
    "        distance, indices=False, footprint=np.ones((3, 3)), labels=image)\n",
    "    markers = measure.label(local_maxi)\n",
    "    labels_ws = watershed(-distance, markers, mask=image)\n",
    "\n",
    "    markers[~image] = -1\n",
    "    labels_rw = random_walker(image, markers)\n",
    "\n",
    "    plt.figure(figsize=(12, 3.5))\n",
    "    plt.subplot(141)\n",
    "    plt.imshow(image, cmap='gray', interpolation='nearest')\n",
    "    plt.axis('off')\n",
    "    plt.title('image')\n",
    "    plt.subplot(142)\n",
    "    plt.imshow(-distance, interpolation='nearest')\n",
    "    plt.axis('off')\n",
    "    plt.title('distance map')\n",
    "    plt.subplot(143)\n",
    "    plt.imshow(labels_ws, cmap='nipy_spectral', interpolation='nearest')\n",
    "    plt.axis('off')\n",
    "    plt.title('watershed segmentation')\n",
    "    plt.subplot(144)\n",
    "    plt.imshow(labels_rw, cmap='nipy_spectral', interpolation='nearest')\n",
    "    plt.axis('off')\n",
    "    plt.title('random walker segmentation')\n",
    "\n",
    "    plt.tight_layout()\n",
    "    plt.show()"
   ]
  },
  {
   "cell_type": "code",
   "execution_count": null,
   "metadata": {},
   "outputs": [],
   "source": [
    "# thresh 0.99 too much, do 0.98, e.g. j=510"
   ]
  },
  {
   "cell_type": "code",
   "execution_count": 6,
   "metadata": {},
   "outputs": [
    {
     "name": "stdout",
     "output_type": "stream",
     "text": [
      "===============\n",
      "Done\n",
      "================\n"
     ]
    }
   ],
   "source": [
    "plt.close('all')\n",
    "single_check = False\n",
    "#j = 20\n",
    "thresh = 0.98\n",
    "ovf_files = list(magdir.glob(\"*.ovf\"))\n",
    "ovf_files.sort()\n",
    "# sparse skyrmions i=100, dense i=0, stripes i=18\n",
    "\n",
    "i = 1\n",
    "tot = len(ovf_files)\n",
    "for ovf in ovf_files: \n",
    "    if single_check: \n",
    "        ovf = ovf_files[j]\n",
    "        print(ovf.stem)\n",
    "    if i % 100 == 0: \n",
    "        print(f\"{i}/{tot}\", end=\"\\r\")\n",
    "    ovfname = ovf.stem \n",
    "    deets = ovfname.split('_')\n",
    "    set_name = deets[0] + deets[1]\n",
    "    ovf_num = deets[2] \n",
    "    rest_name = deets[3:]\n",
    "    tifname = f\"{set_name}_{ovf_num}_LABEL_th{thresh}.tif\"\n",
    "    \n",
    "    label, del_px = truth_from_ovf(ovf, thresh, background='pos',\n",
    "                                   show=True if single_check else False)\n",
    "    # save \n",
    "    res = 1/del_px\n",
    "    tifffile.imsave(str(labeldir / tifname),\n",
    "                    label,\n",
    "                    imagej = True,\n",
    "                    resolution = (res, res),\n",
    "                    metadata={'unit': 'nm'}\n",
    "                    )\n",
    "    i += 1\n",
    "    if single_check:\n",
    "        break\n",
    "print(\"===============\\nDone\\n================\")"
   ]
  },
  {
   "cell_type": "markdown",
   "metadata": {},
   "source": [
    "# Creating the LTEM images"
   ]
  },
  {
   "cell_type": "code",
   "execution_count": 7,
   "metadata": {},
   "outputs": [],
   "source": [
    "from comp_phase import mansPhi\n",
    "from scipy.spatial.transform import Rotation as R\n",
    "from scipy.constants import mu_0\n",
    "from microscopes import Microscope"
   ]
  },
  {
   "cell_type": "code",
   "execution_count": 8,
   "metadata": {},
   "outputs": [],
   "source": [
    "# simulate microscope-like defocus\n",
    "def sim_im(phi, pscope, defocus): \n",
    "    obj_wave = np.cos(phi) + 1j * np.sin(phi)\n",
    "    dy, dx = phi.shape\n",
    "    qq = dist(dy, dx, shift=True)\n",
    "    pscope.defocus = defocus\n",
    "    im_def = pscope.getImage(obj_wave, qq, del_px)\n",
    "    return norm_image(im_def)"
   ]
  },
  {
   "cell_type": "markdown",
   "metadata": {},
   "source": [
    "### single example"
   ]
  },
  {
   "cell_type": "code",
   "execution_count": 9,
   "metadata": {},
   "outputs": [],
   "source": [
    "path = ovf_files[0]\n",
    "mx, my, mz, del_px, zscale = load_ovf(path, sim='norm', v=0)\n",
    "zdim = mz.shape[0]\n",
    "deets = path.stem.split('_')\n",
    "Ms = 1.45e+05\n",
    "b0 = Ms * mu_0\n",
    "\n",
    "# code below can be used for changing\n",
    "'''\n",
    "for d in deets: \n",
    "    if d.startswith(\"Ms\"):\n",
    "        Ms = float(d[2:])\n",
    "        b0 = Ms * mu_0\n",
    "'''\n",
    "    \n",
    "set_name = deets[0]\n",
    "ovf_num = deets[1] \n",
    "# show_2D(np.mean(mx, axis=0), np.mean(my, axis=0), np.mean(mz, axis=0), color=True, a=0)\n",
    "mx, my, mz = mx.sum(axis=0), my.sum(axis=0), mz.sum(axis=0)\n"
   ]
  },
  {
   "cell_type": "code",
   "execution_count": null,
   "metadata": {},
   "outputs": [],
   "source": [
    "theta_x = 20 # degrees, tilt around x axis\n",
    "theta_y = 0 \n",
    "\n",
    "Tx = R.from_rotvec(np.deg2rad(theta_x) * np.array([1,0,0]))\n",
    "Ty = R.from_rotvec(np.deg2rad(theta_y) * np.array([0,1,0]))\n",
    "\n",
    "beam_z = [0,0,1]\n",
    "beam_dir = np.around(Tx.apply(Ty.apply(beam_z)),5)\n",
    "print('beam direction: ', beam_dir)\n",
    "print(f\"angle from normal: {np.rad2deg(np.arctan2(beam_dir[1],beam_dir[2])):.1f}\")\n",
    "\n",
    "phi0 = 2.07e7 #Gauss*nm^2 flux quantum\n",
    "pre_B = 2*np.pi*b0*zscale*del_px/(zdim*phi0)\n",
    "\n",
    "mphi = mansPhi(mx, my, mz, beam=beam_dir) * pre_B\n",
    "# show_im(mz, 'mz', simple=True)\n",
    "show_im(mphi, 'phase shift')\n"
   ]
  },
  {
   "cell_type": "code",
   "execution_count": null,
   "metadata": {},
   "outputs": [],
   "source": [
    "ALTEM = Microscope(E=200e3,Cs = 200.0e3, theta_c = 0.01e-3, def_spr = 80.0)\n",
    "im_un = norm_image(sim_im(mphi, ALTEM, -1_000_000))\n",
    "show_im(im_un)"
   ]
  },
  {
   "cell_type": "markdown",
   "metadata": {},
   "source": [
    "## LTEM images for all"
   ]
  },
  {
   "cell_type": "code",
   "execution_count": 17,
   "metadata": {},
   "outputs": [
    {
     "name": "stdout",
     "output_type": "stream",
     "text": [
      "================\n",
      "Done\n",
      "================\n"
     ]
    }
   ],
   "source": [
    "single_check = False\n",
    "# j = 7\n",
    "ovf_files = list(magdir.glob(\"*.ovf\"))\n",
    "ovf_files.sort()\n",
    "# sparse skyrmions i=100, dense i=0, stripes i=18\n",
    "\n",
    "theta_x = 20 # degrees, tilt around x axis\n",
    "theta_y = 0 \n",
    "ALTEM = Microscope(E=200e3,Cs = 200.0e3, theta_c = 0.01e-3, def_spr = 80.0)\n",
    "defocus = -2_000_000\n",
    "\n",
    "# applies theta tilt for each axis\n",
    "Tx = R.from_rotvec(np.deg2rad(theta_x) * np.array([1,0,0]))\n",
    "Ty = R.from_rotvec(np.deg2rad(theta_y) * np.array([0,1,0]))\n",
    "\n",
    "beam_z = [0,0,1]\n",
    "beam_dir = np.around(Tx.apply(Ty.apply(beam_z)),5)\n",
    "\n",
    "# print('beam direction: ', beam_dir)\n",
    "# print(f\"angle from normal: {np.rad2deg(np.arctan2(beam_dir[1],beam_dir[2])):.1f}\")\n",
    "\n",
    "phi0 = 2.07e7 #Gauss*nm^2 flux quantum\n",
    "\n",
    "i = 0\n",
    "tot = len(ovf_files)\n",
    "for ovf in ovf_files: \n",
    "    if i % 100 == 0: \n",
    "        print(f\"{i}/{tot}\", end=\"\\r\")\n",
    "\n",
    "    if single_check:\n",
    "        ovf = ovf_files[j]\n",
    "\n",
    "    ovf_name = ovf.stem \n",
    "    deets = ovf_name.split('_')\n",
    "    set_name = deets[0] + deets[1]\n",
    "    ovf_num = deets[2] \n",
    "    rest_name = deets[3:]\n",
    "    tif_name = f\"{set_name}_{ovf_num}_LTEM_Tx{theta_x}_Ty{theta_y}_df{defocus*1e-6}mm.tif\"\n",
    "\n",
    "    # initialize Msat for b0\n",
    "    for d in deets: \n",
    "        if d.startswith(\"AvgMs\"): # (Msat from regions) | (Msat from uniform)\n",
    "            Ms = float(d[5:])\n",
    "            b0 = Ms * mu_0\n",
    "            break \n",
    "        elif d.startswith(\"Ms\"):\n",
    "            Ms = float(d[2:])\n",
    "            b0 = Ms * mu_0\n",
    "            break \n",
    "\n",
    "    # create LTEM image\n",
    "    mx, my, mz, del_px, zscale = load_ovf(ovf, sim='norm', v=0)\n",
    "    zdim = mz.shape[0]\n",
    "    mx, my, mz = mx.sum(axis=0), my.sum(axis=0), mz.sum(axis=0)\n",
    "    pre_B = 2*np.pi*b0*zscale*del_px/(zdim*phi0)\n",
    "    mphi = mansPhi(mx, my, mz, beam=beam_dir) * pre_B # scale intensity of the phase shift\n",
    "    im_def = norm_image(sim_im(mphi, ALTEM, defocus)).astype('float32') # doesnt support float 16\n",
    "    \n",
    "    # save \n",
    "    res = 1/del_px\n",
    "    tifffile.imsave(str(imdir / tif_name),\n",
    "                    im_def,\n",
    "                    imagej = True,\n",
    "                    resolution = (res, res),\n",
    "                    metadata={'unit': 'nm'}\n",
    "                    )\n",
    "    i += 1\n",
    "    if single_check:\n",
    "        show_2D(mx, my, mz, color=True, a=0)\n",
    "        show_im(im_def, simple=True)\n",
    "        break\n",
    "print(\"================\\nDone\\n================\")"
   ]
  }
 ],
 "metadata": {
  "kernelspec": {
   "display_name": "Python 3.7.13 ('PyLorentz': conda)",
   "language": "python",
   "name": "python3"
  },
  "language_info": {
   "codemirror_mode": {
    "name": "ipython",
    "version": 3
   },
   "file_extension": ".py",
   "mimetype": "text/x-python",
   "name": "python",
   "nbconvert_exporter": "python",
   "pygments_lexer": "ipython3",
   "version": "3.7.13"
  },
  "orig_nbformat": 4,
  "vscode": {
   "interpreter": {
    "hash": "71a88444068136bc448fd86f74fa817c58003c4a7e99318f60fa7ae0e2b1a262"
   }
  }
 },
 "nbformat": 4,
 "nbformat_minor": 2
}
